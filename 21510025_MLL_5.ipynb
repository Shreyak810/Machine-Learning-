{
 "cells": [
  {
   "cell_type": "code",
   "execution_count": 14,
   "id": "2b43633d",
   "metadata": {},
   "outputs": [
    {
     "name": "stdout",
     "output_type": "stream",
     "text": [
      "Requirement already satisfied: nose in /opt/conda/lib/python3.10/site-packages (1.3.7)\n",
      "Note: you may need to restart the kernel to use updated packages.\n"
     ]
    }
   ],
   "source": [
    "pip install nose"
   ]
  },
  {
   "cell_type": "code",
   "execution_count": 4,
   "id": "c5f3f96d",
   "metadata": {
    "deletable": false,
    "editable": false,
    "nbgrader": {
     "cell_type": "code",
     "checksum": "a62d6604c181aa598c16f1dc4a0ef80f",
     "grade": false,
     "grade_id": "cell-1d1319dbdd2f95be",
     "locked": true,
     "schema_version": 3,
     "solution": false,
     "task": false
    }
   },
   "outputs": [],
   "source": [
    "#Perform logistic regression on diabetes dataset"
   ]
  },
  {
   "cell_type": "code",
   "execution_count": 15,
   "id": "250e1cd1",
   "metadata": {
    "deletable": false,
    "nbgrader": {
     "cell_type": "code",
     "checksum": "f5264282378aaac430ec943dc7100ccb",
     "grade": false,
     "grade_id": "cell-65901a02d7b3d454",
     "locked": false,
     "schema_version": 3,
     "solution": true,
     "task": false
    }
   },
   "outputs": [],
   "source": [
    "#Load diabetes dataset here and return shape of dataset\n",
    "from cz_utility import dataset\n",
    "# diabetes dataset\n",
    "df = dataset.load('63ea33b29ac5f900139b8d07')\n",
    "def returnShape(df):\n",
    "    # your code here\n",
    "    return df.shape\n",
    "    raise NotImplementedError"
   ]
  },
  {
   "cell_type": "code",
   "execution_count": 17,
   "id": "15628444",
   "metadata": {
    "deletable": false,
    "editable": false,
    "nbgrader": {
     "cell_type": "code",
     "checksum": "b3f09f2a823187359203f673d1b19162",
     "grade": true,
     "grade_id": "cell-9d4cd5b17d896c66",
     "locked": true,
     "points": 2,
     "schema_version": 3,
     "solution": false,
     "task": false
    }
   },
   "outputs": [],
   "source": [
    "from nose.tools import assert_equal\n",
    "assert_equal(returnShape(df), (768, 9))"
   ]
  },
  {
   "cell_type": "code",
   "execution_count": 18,
   "id": "b889e6ba",
   "metadata": {},
   "outputs": [
    {
     "data": {
      "text/html": [
       "<div>\n",
       "<style scoped>\n",
       "    .dataframe tbody tr th:only-of-type {\n",
       "        vertical-align: middle;\n",
       "    }\n",
       "\n",
       "    .dataframe tbody tr th {\n",
       "        vertical-align: top;\n",
       "    }\n",
       "\n",
       "    .dataframe thead th {\n",
       "        text-align: right;\n",
       "    }\n",
       "</style>\n",
       "<table border=\"1\" class=\"dataframe\">\n",
       "  <thead>\n",
       "    <tr style=\"text-align: right;\">\n",
       "      <th></th>\n",
       "      <th>Pregnancies</th>\n",
       "      <th>Glucose</th>\n",
       "      <th>BloodPressure</th>\n",
       "      <th>SkinThickness</th>\n",
       "      <th>Insulin</th>\n",
       "      <th>BMI</th>\n",
       "      <th>DiabetesPedigreeFunction</th>\n",
       "      <th>Age</th>\n",
       "      <th>Outcome</th>\n",
       "    </tr>\n",
       "  </thead>\n",
       "  <tbody>\n",
       "    <tr>\n",
       "      <th>0</th>\n",
       "      <td>6</td>\n",
       "      <td>148</td>\n",
       "      <td>72</td>\n",
       "      <td>35</td>\n",
       "      <td>0</td>\n",
       "      <td>33.6</td>\n",
       "      <td>0.627</td>\n",
       "      <td>50</td>\n",
       "      <td>1</td>\n",
       "    </tr>\n",
       "    <tr>\n",
       "      <th>1</th>\n",
       "      <td>1</td>\n",
       "      <td>85</td>\n",
       "      <td>66</td>\n",
       "      <td>29</td>\n",
       "      <td>0</td>\n",
       "      <td>26.6</td>\n",
       "      <td>0.351</td>\n",
       "      <td>31</td>\n",
       "      <td>0</td>\n",
       "    </tr>\n",
       "    <tr>\n",
       "      <th>2</th>\n",
       "      <td>8</td>\n",
       "      <td>183</td>\n",
       "      <td>64</td>\n",
       "      <td>0</td>\n",
       "      <td>0</td>\n",
       "      <td>23.3</td>\n",
       "      <td>0.672</td>\n",
       "      <td>32</td>\n",
       "      <td>1</td>\n",
       "    </tr>\n",
       "    <tr>\n",
       "      <th>3</th>\n",
       "      <td>1</td>\n",
       "      <td>89</td>\n",
       "      <td>66</td>\n",
       "      <td>23</td>\n",
       "      <td>94</td>\n",
       "      <td>28.1</td>\n",
       "      <td>0.167</td>\n",
       "      <td>21</td>\n",
       "      <td>0</td>\n",
       "    </tr>\n",
       "    <tr>\n",
       "      <th>4</th>\n",
       "      <td>0</td>\n",
       "      <td>137</td>\n",
       "      <td>40</td>\n",
       "      <td>35</td>\n",
       "      <td>168</td>\n",
       "      <td>43.1</td>\n",
       "      <td>2.288</td>\n",
       "      <td>33</td>\n",
       "      <td>1</td>\n",
       "    </tr>\n",
       "    <tr>\n",
       "      <th>5</th>\n",
       "      <td>5</td>\n",
       "      <td>116</td>\n",
       "      <td>74</td>\n",
       "      <td>0</td>\n",
       "      <td>0</td>\n",
       "      <td>25.6</td>\n",
       "      <td>0.201</td>\n",
       "      <td>30</td>\n",
       "      <td>0</td>\n",
       "    </tr>\n",
       "    <tr>\n",
       "      <th>6</th>\n",
       "      <td>3</td>\n",
       "      <td>78</td>\n",
       "      <td>50</td>\n",
       "      <td>32</td>\n",
       "      <td>88</td>\n",
       "      <td>31.0</td>\n",
       "      <td>0.248</td>\n",
       "      <td>26</td>\n",
       "      <td>1</td>\n",
       "    </tr>\n",
       "    <tr>\n",
       "      <th>7</th>\n",
       "      <td>10</td>\n",
       "      <td>115</td>\n",
       "      <td>0</td>\n",
       "      <td>0</td>\n",
       "      <td>0</td>\n",
       "      <td>35.3</td>\n",
       "      <td>0.134</td>\n",
       "      <td>29</td>\n",
       "      <td>0</td>\n",
       "    </tr>\n",
       "    <tr>\n",
       "      <th>8</th>\n",
       "      <td>2</td>\n",
       "      <td>197</td>\n",
       "      <td>70</td>\n",
       "      <td>45</td>\n",
       "      <td>543</td>\n",
       "      <td>30.5</td>\n",
       "      <td>0.158</td>\n",
       "      <td>53</td>\n",
       "      <td>1</td>\n",
       "    </tr>\n",
       "    <tr>\n",
       "      <th>9</th>\n",
       "      <td>8</td>\n",
       "      <td>125</td>\n",
       "      <td>96</td>\n",
       "      <td>0</td>\n",
       "      <td>0</td>\n",
       "      <td>0.0</td>\n",
       "      <td>0.232</td>\n",
       "      <td>54</td>\n",
       "      <td>1</td>\n",
       "    </tr>\n",
       "  </tbody>\n",
       "</table>\n",
       "</div>"
      ],
      "text/plain": [
       "   Pregnancies  Glucose  BloodPressure  SkinThickness  Insulin   BMI  \\\n",
       "0            6      148             72             35        0  33.6   \n",
       "1            1       85             66             29        0  26.6   \n",
       "2            8      183             64              0        0  23.3   \n",
       "3            1       89             66             23       94  28.1   \n",
       "4            0      137             40             35      168  43.1   \n",
       "5            5      116             74              0        0  25.6   \n",
       "6            3       78             50             32       88  31.0   \n",
       "7           10      115              0              0        0  35.3   \n",
       "8            2      197             70             45      543  30.5   \n",
       "9            8      125             96              0        0   0.0   \n",
       "\n",
       "   DiabetesPedigreeFunction  Age  Outcome  \n",
       "0                     0.627   50        1  \n",
       "1                     0.351   31        0  \n",
       "2                     0.672   32        1  \n",
       "3                     0.167   21        0  \n",
       "4                     2.288   33        1  \n",
       "5                     0.201   30        0  \n",
       "6                     0.248   26        1  \n",
       "7                     0.134   29        0  \n",
       "8                     0.158   53        1  \n",
       "9                     0.232   54        1  "
      ]
     },
     "execution_count": 18,
     "metadata": {},
     "output_type": "execute_result"
    }
   ],
   "source": [
    "df.head(10)"
   ]
  },
  {
   "cell_type": "code",
   "execution_count": 19,
   "id": "fddb3ab5",
   "metadata": {},
   "outputs": [
    {
     "data": {
      "text/plain": [
       "374"
      ]
     },
     "execution_count": 19,
     "metadata": {},
     "output_type": "execute_result"
    }
   ],
   "source": [
    "(df['Insulin']==0).sum()"
   ]
  },
  {
   "cell_type": "code",
   "execution_count": 20,
   "id": "91ea7fd3",
   "metadata": {
    "deletable": false,
    "nbgrader": {
     "cell_type": "code",
     "checksum": "569a0196f50fd0d4b33bcee7e91c5140",
     "grade": false,
     "grade_id": "cell-97b7b8d9c24aa579",
     "locked": false,
     "schema_version": 3,
     "solution": true,
     "task": false
    }
   },
   "outputs": [],
   "source": [
    "#separate input and output from dataset and remove unwanted data columns\n",
    "#take x for input and y for output\n",
    "def sepAndRemove(df):\n",
    "    # your code here\n",
    "    #The unwanted column is 'SkinThickness' because it does not affect diabetes.\n",
    "    x=df.drop(['Insulin','Outcome'],axis=1)\n",
    "    y=df['Outcome']\n",
    "    return x,y\n",
    "    raise NotImplementedError"
   ]
  },
  {
   "cell_type": "code",
   "execution_count": 21,
   "id": "15efccc9",
   "metadata": {
    "deletable": false,
    "editable": false,
    "nbgrader": {
     "cell_type": "code",
     "checksum": "492e3df2e6c0c63b64800df4d7abbb79",
     "grade": true,
     "grade_id": "cell-f7e39f11fcd55f39",
     "locked": true,
     "points": 2,
     "schema_version": 3,
     "solution": false,
     "task": false
    }
   },
   "outputs": [],
   "source": [
    "trainAndTestData = sepAndRemove(df)\n",
    "assert_equal(trainAndTestData[0].shape, (768, 7))\n",
    "assert_equal(trainAndTestData[1].shape, (768,))"
   ]
  },
  {
   "cell_type": "code",
   "execution_count": 27,
   "id": "3467daff",
   "metadata": {
    "deletable": false,
    "nbgrader": {
     "cell_type": "code",
     "checksum": "252a797e9b54c6e5c0aaed313c649f16",
     "grade": false,
     "grade_id": "cell-05c4eb3e485c557a",
     "locked": false,
     "schema_version": 3,
     "solution": true,
     "task": false
    }
   },
   "outputs": [],
   "source": [
    "#separate training and testing dataset with test_size = 0.3\n",
    "from sklearn.model_selection import train_test_split\n",
    "def trainTestSplit(trainAndTestData):\n",
    "    # your code here\n",
    "    X, y = trainAndTestData\n",
    "\n",
    "    # Perform train-test split with test_size = 0.3 and random_state = 42\n",
    "    X_train, X_test, y_train, y_test = train_test_split(X, y, test_size=0.3, random_state=42)\n",
    "\n",
    "    # Print shapes for verification\n",
    "    print(\"X_train shape:\", X_train.shape)\n",
    "    print(\"X_test shape:\", X_test.shape)\n",
    "    print(\"y_train shape:\", y_train.shape)\n",
    "    print(\"y_test shape:\", y_test.shape)\n",
    "\n",
    "    return X_train, X_test, y_train, y_test\n",
    "    raise NotImplementedError"
   ]
  },
  {
   "cell_type": "code",
   "execution_count": 28,
   "id": "18871bfa",
   "metadata": {
    "deletable": false,
    "editable": false,
    "nbgrader": {
     "cell_type": "code",
     "checksum": "a561c858e31196cdedf5317084b50ecf",
     "grade": true,
     "grade_id": "cell-a7a6e742dbef0d20",
     "locked": true,
     "points": 2,
     "schema_version": 3,
     "solution": false,
     "task": false
    }
   },
   "outputs": [
    {
     "name": "stdout",
     "output_type": "stream",
     "text": [
      "X_train shape: (537, 7)\n",
      "X_test shape: (231, 7)\n",
      "y_train shape: (537,)\n",
      "y_test shape: (231,)\n"
     ]
    }
   ],
   "source": [
    "trainAndTestData=trainTestSplit(sepAndRemove(df))\n",
    "assert_equal(trainAndTestData[0].shape,(537, 7))\n",
    "assert_equal(trainAndTestData[1].shape,(231, 7))\n",
    "assert_equal(trainAndTestData[2].shape,(537,))\n",
    "assert_equal(trainAndTestData[3].shape,(231,))"
   ]
  },
  {
   "cell_type": "code",
   "execution_count": 33,
   "id": "319f4f4b",
   "metadata": {
    "deletable": false,
    "nbgrader": {
     "cell_type": "code",
     "checksum": "fd082ff6def2bc0db36d47997123ab1f",
     "grade": false,
     "grade_id": "cell-6e973aeb54f8a469",
     "locked": false,
     "schema_version": 3,
     "solution": true,
     "task": false
    }
   },
   "outputs": [],
   "source": [
    "#use MinMaxScaler to scale the data to a fixed range\n",
    "from sklearn.preprocessing import MinMaxScaler\n",
    "def scalar(trainAndTestData):\n",
    "    # your code here\n",
    "    # Unpack train and test data\n",
    "    X_train, X_test, y_train, y_test = trainAndTestData\n",
    "    \n",
    "    # Instantiate MinMaxScaler\n",
    "    scaler = MinMaxScaler()\n",
    "\n",
    "    # Fit scaler on the training data and transform both training and test data\n",
    "    X_train_scaled = scaler.fit_transform(X_train)\n",
    "    X_test_scaled = scaler.transform(X_test)\n",
    "    \n",
    "    return X_train_scaled, X_test_scaled\n",
    "    raise NotImplementedError"
   ]
  },
  {
   "cell_type": "code",
   "execution_count": 34,
   "id": "333e31a4",
   "metadata": {
    "deletable": false,
    "editable": false,
    "nbgrader": {
     "cell_type": "code",
     "checksum": "f8211d2c061947d69ad2722e042c9ae4",
     "grade": true,
     "grade_id": "cell-0bb62bf101293688",
     "locked": true,
     "points": 2,
     "schema_version": 3,
     "solution": false,
     "task": false
    }
   },
   "outputs": [
    {
     "name": "stdout",
     "output_type": "stream",
     "text": [
      "X_train shape: (537, 7)\n",
      "X_test shape: (231, 7)\n",
      "y_train shape: (537,)\n",
      "y_test shape: (231,)\n"
     ]
    }
   ],
   "source": [
    "trainAndTestData=scalar(trainTestSplit(sepAndRemove(df)))\n",
    "assert_equal(trainAndTestData[0].shape, (537, 7))\n",
    "assert_equal(trainAndTestData[1].shape, (231, 7))\n"
   ]
  },
  {
   "cell_type": "code",
   "execution_count": 35,
   "id": "84cfa19f",
   "metadata": {
    "deletable": false,
    "nbgrader": {
     "cell_type": "code",
     "checksum": "a2e39a60c929249f50876230089f3fb1",
     "grade": false,
     "grade_id": "cell-a9178e0adf01003e",
     "locked": false,
     "schema_version": 3,
     "solution": true,
     "task": false
    }
   },
   "outputs": [],
   "source": [
    "#perform logistic regression here and return accuracy between predected output for testx and testy\n",
    "from sklearn.linear_model import LogisticRegression\n",
    "from sklearn.metrics import accuracy_score\n",
    "def logisticReg(trainAndTestData, trainy, testy):\n",
    "    # your code here\n",
    "    model=LogisticRegression()\n",
    "    X_train,X_test=trainAndTestData\n",
    "    model.fit(X_train,trainy)\n",
    "    y_pred=model.predict(X_test)\n",
    "    accuracy=accuracy_score(testy,y_pred)\n",
    "    return accuracy\n",
    "    raise NotImplementedError"
   ]
  },
  {
   "cell_type": "code",
   "execution_count": 38,
   "id": "619604ef",
   "metadata": {
    "deletable": false,
    "editable": false,
    "nbgrader": {
     "cell_type": "code",
     "checksum": "2573517c941b653e38b6b9d40b43679a",
     "grade": true,
     "grade_id": "cell-b26830e8ae1d3a06",
     "locked": true,
     "points": 2,
     "schema_version": 3,
     "solution": false,
     "task": false
    }
   },
   "outputs": [
    {
     "name": "stdout",
     "output_type": "stream",
     "text": [
      "X_train shape: (537, 7)\n",
      "X_test shape: (231, 7)\n",
      "y_train shape: (537,)\n",
      "y_test shape: (231,)\n",
      "X_train shape: (537, 7)\n",
      "X_test shape: (231, 7)\n",
      "y_train shape: (537,)\n",
      "y_test shape: (231,)\n"
     ]
    }
   ],
   "source": [
    "#there might be difference between student answer and faculty answer\n",
    "trainAndTestData1 = trainTestSplit(sepAndRemove(df))\n",
    "accuracyScore = logisticReg(scalar(trainTestSplit(sepAndRemove(df))), trainAndTestData1[2], trainAndTestData1[3])\n",
    "assert_equal(accuracyScore>0.60, True)"
   ]
  },
  {
   "cell_type": "code",
   "execution_count": 39,
   "id": "28716e34",
   "metadata": {},
   "outputs": [
    {
     "name": "stdout",
     "output_type": "stream",
     "text": [
      "0.7445887445887446\n"
     ]
    }
   ],
   "source": [
    "print(accuracyScore)"
   ]
  },
  {
   "cell_type": "code",
   "execution_count": null,
   "id": "b03a036b",
   "metadata": {},
   "outputs": [],
   "source": []
  }
 ],
 "metadata": {
  "kernelspec": {
   "display_name": "Python 3 (ipykernel)",
   "language": "python",
   "name": "python3"
  },
  "language_info": {
   "codemirror_mode": {
    "name": "ipython",
    "version": 3
   },
   "file_extension": ".py",
   "mimetype": "text/x-python",
   "name": "python",
   "nbconvert_exporter": "python",
   "pygments_lexer": "ipython3",
   "version": "3.10.11"
  }
 },
 "nbformat": 4,
 "nbformat_minor": 5
}
