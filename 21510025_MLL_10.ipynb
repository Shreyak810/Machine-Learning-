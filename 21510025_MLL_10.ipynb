{
  "cells": [
    {
      "cell_type": "code",
      "execution_count": null,
      "id": "e922328e-b7db-480b-a8ad-d8807e46605a",
      "metadata": {
        "id": "e922328e-b7db-480b-a8ad-d8807e46605a"
      },
      "outputs": [],
      "source": [
        "import gym\n",
        "env = gym.make('MountainCar-v0')"
      ]
    },
    {
      "cell_type": "code",
      "execution_count": null,
      "id": "58fa9212-b7d7-4eb1-8627-d435ca281407",
      "metadata": {
        "id": "58fa9212-b7d7-4eb1-8627-d435ca281407",
        "outputId": "e10d2bf6-495f-438a-909c-307573cf0866"
      },
      "outputs": [
        {
          "name": "stdout",
          "output_type": "stream",
          "text": [
            "The observation space: Box([-1.2  -0.07], [0.6  0.07], (2,), float32)\n",
            "The action space: Discrete(3)\n"
          ]
        }
      ],
      "source": [
        "# Observation and action space\n",
        "obs_space = env.observation_space\n",
        "action_space = env.action_space\n",
        "print(\"The observation space: {}\".format(obs_space))\n",
        "print(\"The action space: {}\".format(action_space))"
      ]
    },
    {
      "cell_type": "code",
      "execution_count": null,
      "id": "b4e75e1d-a165-42e5-b256-e39f73019aec",
      "metadata": {
        "id": "b4e75e1d-a165-42e5-b256-e39f73019aec",
        "outputId": "484f1d55-cbbc-448d-ec8d-2d41292d08b7"
      },
      "outputs": [
        {
          "name": "stdout",
          "output_type": "stream",
          "text": [
            "(array([-0.42084494,  0.        ], dtype=float32), {})\n",
            "Step result: (array([-0.42160347, -0.00075851], dtype=float32), -1.0, False, False, {})\n",
            "Received unexpected extra values from env.step()\n",
            "Episode finished after 1 timesteps\n",
            "(array([-0.52971,  0.     ], dtype=float32), {})\n",
            "Step result: (array([-0.53066415, -0.00095417], dtype=float32), -1.0, False, False, {})\n",
            "Received unexpected extra values from env.step()\n",
            "Episode finished after 1 timesteps\n",
            "(array([-0.43989965,  0.        ], dtype=float32), {})\n",
            "Step result: (array([-0.44052082, -0.00062117], dtype=float32), -1.0, False, False, {})\n",
            "Received unexpected extra values from env.step()\n",
            "Episode finished after 1 timesteps\n",
            "(array([-0.55636173,  0.        ], dtype=float32), {})\n",
            "Step result: (array([-0.55711645, -0.00075467], dtype=float32), -1.0, False, False, {})\n",
            "Received unexpected extra values from env.step()\n",
            "Episode finished after 1 timesteps\n",
            "(array([-0.45392942,  0.        ], dtype=float32), {})\n",
            "Step result: (array([-0.45544815, -0.00151872], dtype=float32), -1.0, False, False, {})\n",
            "Received unexpected extra values from env.step()\n",
            "Episode finished after 1 timesteps\n",
            "(array([-0.49123585,  0.        ], dtype=float32), {})\n",
            "Step result: (array([-0.4904782 ,  0.00075766], dtype=float32), -1.0, False, False, {})\n",
            "Received unexpected extra values from env.step()\n",
            "Episode finished after 1 timesteps\n",
            "(array([-0.47404063,  0.        ], dtype=float32), {})\n",
            "Step result: (array([-4.7441095e-01, -3.7031822e-04], dtype=float32), -1.0, False, False, {})\n",
            "Received unexpected extra values from env.step()\n",
            "Episode finished after 1 timesteps\n",
            "(array([-0.44540825,  0.        ], dtype=float32), {})\n",
            "Step result: (array([-0.44698933, -0.00158107], dtype=float32), -1.0, False, False, {})\n",
            "Received unexpected extra values from env.step()\n",
            "Episode finished after 1 timesteps\n",
            "(array([-0.49811506,  0.        ], dtype=float32), {})\n",
            "Step result: (array([-0.497306  ,  0.00080906], dtype=float32), -1.0, False, False, {})\n",
            "Received unexpected extra values from env.step()\n",
            "Episode finished after 1 timesteps\n",
            "(array([-0.49649453,  0.        ], dtype=float32), {})\n",
            "Step result: (array([-0.4976976 , -0.00120306], dtype=float32), -1.0, False, False, {})\n",
            "Received unexpected extra values from env.step()\n",
            "Episode finished after 1 timesteps\n",
            "(array([-0.5529454,  0.       ], dtype=float32), {})\n",
            "Step result: (array([-5.5272555e-01,  2.1981511e-04], dtype=float32), -1.0, False, False, {})\n",
            "Received unexpected extra values from env.step()\n",
            "Episode finished after 1 timesteps\n",
            "(array([-0.5027819,  0.       ], dtype=float32), {})\n",
            "Step result: (array([-0.501938  ,  0.00084398], dtype=float32), -1.0, False, False, {})\n",
            "Received unexpected extra values from env.step()\n",
            "Episode finished after 1 timesteps\n",
            "(array([-0.44851503,  0.        ], dtype=float32), {})\n",
            "Step result: (array([-4.4807339e-01,  4.4162176e-04], dtype=float32), -1.0, False, False, {})\n",
            "Received unexpected extra values from env.step()\n",
            "Episode finished after 1 timesteps\n",
            "(array([-0.56418884,  0.        ], dtype=float32), {})\n",
            "Step result: (array([-0.56288517,  0.00130367], dtype=float32), -1.0, False, False, {})\n",
            "Received unexpected extra values from env.step()\n",
            "Episode finished after 1 timesteps\n",
            "(array([-0.4889877,  0.       ], dtype=float32), {})\n",
            "Step result: (array([-0.49024683, -0.00125912], dtype=float32), -1.0, False, False, {})\n",
            "Received unexpected extra values from env.step()\n",
            "Episode finished after 1 timesteps\n",
            "(array([-0.4316343,  0.       ], dtype=float32), {})\n",
            "Step result: (array([-0.43231532, -0.00068102], dtype=float32), -1.0, False, False, {})\n",
            "Received unexpected extra values from env.step()\n",
            "Episode finished after 1 timesteps\n",
            "(array([-0.5900248,  0.       ], dtype=float32), {})\n",
            "Step result: (array([-5.8952993e-01,  4.9490470e-04], dtype=float32), -1.0, False, False, {})\n",
            "Received unexpected extra values from env.step()\n",
            "Episode finished after 1 timesteps\n",
            "(array([-0.55740243,  0.        ], dtype=float32), {})\n",
            "Step result: (array([-5.5714935e-01,  2.5309311e-04], dtype=float32), -1.0, False, False, {})\n",
            "Received unexpected extra values from env.step()\n",
            "Episode finished after 1 timesteps\n",
            "(array([-0.5947665,  0.       ], dtype=float32), {})\n",
            "Step result: (array([-0.5932368 ,  0.00152971], dtype=float32), -1.0, False, False, {})\n",
            "Received unexpected extra values from env.step()\n",
            "Episode finished after 1 timesteps\n",
            "(array([-0.4795848,  0.       ], dtype=float32), {})\n",
            "Step result: (array([-0.48091394, -0.00132915], dtype=float32), -1.0, False, False, {})\n",
            "Received unexpected extra values from env.step()\n",
            "Episode finished after 1 timesteps\n"
          ]
        }
      ],
      "source": [
        "env = gym.make('MountainCar-v0')\n",
        "num_episodes = 20\n",
        "\n",
        "for i in range(num_episodes):\n",
        "    t = 0\n",
        "    observation = env.reset()\n",
        "    while True:\n",
        "        t += 1\n",
        "        env.render()\n",
        "        print(observation)\n",
        "        action = env.action_space.sample()\n",
        "        step_result = env.step(env.action_space.sample())\n",
        "        print(\"Step result:\", step_result)\n",
        "        if len(step_result) > 4:\n",
        "            print(\"Received unexpected extra values from env.step()\")\n",
        "        elif len(step_result) < 4:\n",
        "            print(\"Received unexpected missing values from env.step()\")\n",
        "        observation, reward, done, _ = step_result[:4]\n",
        "        done=True\n",
        "        if done:\n",
        "            print(\"Episode finished after {} timesteps\".format(t))\n",
        "            break\n",
        "\n",
        "env.close()\n"
      ]
    },
    {
      "cell_type": "code",
      "execution_count": null,
      "id": "8614a306-bf80-490d-8df3-451f90ec3bac",
      "metadata": {
        "id": "8614a306-bf80-490d-8df3-451f90ec3bac",
        "outputId": "285cc24c-721d-46a5-a335-6b9b94773607"
      },
      "outputs": [
        {
          "name": "stdout",
          "output_type": "stream",
          "text": [
            "The initial observation is (array([-0.5362538,  0.       ], dtype=float32), {})\n",
            "The new observation is (array([-0.53515893,  0.00109489], dtype=float32), -1.0, False, False, {})\n"
          ]
        }
      ],
      "source": [
        "import matplotlib.pyplot as plt\n",
        "\n",
        "# reset the environment and see the initial observation\n",
        "obs = env.reset()\n",
        "print(\"The initial observation is {}\".format(obs))\n",
        "\n",
        "# Sample a random action from the entire action space\n",
        "random_action = env.action_space.sample()\n",
        "\n",
        "# # Take the action and get the new observation space\n",
        "result = env.step(random_action)\n",
        "print(\"The new observation is {}\".format(result))"
      ]
    },
    {
      "cell_type": "code",
      "execution_count": null,
      "id": "ee6d2c14-4dbe-4227-84c3-54a6ede8a741",
      "metadata": {
        "id": "ee6d2c14-4dbe-4227-84c3-54a6ede8a741",
        "outputId": "b4fe2dd0-193e-4082-d231-07d482cb6004"
      },
      "outputs": [
        {
          "name": "stderr",
          "output_type": "stream",
          "text": [
            "C:\\Python310\\lib\\site-packages\\gym\\envs\\classic_control\\mountain_car.py:171: UserWarning: \u001b[33mWARN: You are calling render method without specifying any render mode. You can specify the render_mode at initialization, e.g. gym(\"MountainCar-v0\", render_mode=\"rgb_array\")\u001b[0m\n",
            "  gym.logger.warn(\n"
          ]
        }
      ],
      "source": [
        "env.render()"
      ]
    },
    {
      "cell_type": "code",
      "execution_count": null,
      "id": "811d0837-a4d0-4ab4-adf9-fb66773c8568",
      "metadata": {
        "id": "811d0837-a4d0-4ab4-adf9-fb66773c8568"
      },
      "outputs": [],
      "source": [
        "env.close()"
      ]
    },
    {
      "cell_type": "code",
      "execution_count": null,
      "id": "b1b931cb-85b7-441d-9079-f2b9c021df24",
      "metadata": {
        "id": "b1b931cb-85b7-441d-9079-f2b9c021df24"
      },
      "outputs": [],
      "source": [
        "import time\n",
        "\n",
        "num_steps = 1500\n",
        "\n",
        "obs = env.reset()\n",
        "\n",
        "for step in range(num_steps):\n",
        "    action = env.action_space.sample()\n",
        "\n",
        "    result = env.step(action)\n",
        "\n",
        "    env.render()\n",
        "\n",
        "    time.sleep(0.001)\n",
        "\n",
        "    if result:\n",
        "        env.reset()\n",
        "\n",
        "# Close the env\n",
        "env.close()"
      ]
    },
    {
      "cell_type": "code",
      "execution_count": null,
      "id": "b4ed4ed3-5ba9-4aee-8a29-c836a648003f",
      "metadata": {
        "id": "b4ed4ed3-5ba9-4aee-8a29-c836a648003f",
        "outputId": "b2913e5f-a3e8-4722-ae64-4799481f3429"
      },
      "outputs": [
        {
          "name": "stdout",
          "output_type": "stream",
          "text": [
            "Upper Bound for Env Observation [0.6  0.07]\n",
            "Lower Bound for Env Observation [-1.2  -0.07]\n"
          ]
        }
      ],
      "source": [
        "print(\"Upper Bound for Env Observation\", env.observation_space.high)\n",
        "print(\"Lower Bound for Env Observation\", env.observation_space.low)"
      ]
    },
    {
      "cell_type": "code",
      "execution_count": null,
      "id": "e86bc68f-8b38-4562-8614-4b9e1692a5e0",
      "metadata": {
        "id": "e86bc68f-8b38-4562-8614-4b9e1692a5e0",
        "outputId": "3730b7cb-7430-4820-9649-927709bff0b6"
      },
      "outputs": [
        {
          "name": "stdout",
          "output_type": "stream",
          "text": [
            "It works!\n"
          ]
        }
      ],
      "source": [
        "# Works\n",
        "env.step(2)\n",
        "print(\"It works!\")"
      ]
    }
  ],
  "metadata": {
    "kernelspec": {
      "display_name": "Python 3 (ipykernel)",
      "language": "python",
      "name": "python3"
    },
    "language_info": {
      "codemirror_mode": {
        "name": "ipython",
        "version": 3
      },
      "file_extension": ".py",
      "mimetype": "text/x-python",
      "name": "python",
      "nbconvert_exporter": "python",
      "pygments_lexer": "ipython3",
      "version": "3.10.8"
    },
    "colab": {
      "provenance": []
    }
  },
  "nbformat": 4,
  "nbformat_minor": 5
}